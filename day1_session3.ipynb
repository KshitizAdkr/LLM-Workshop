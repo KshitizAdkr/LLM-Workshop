{
  "nbformat": 4,
  "nbformat_minor": 0,
  "metadata": {
    "colab": {
      "provenance": [],
      "authorship_tag": "ABX9TyPt+zuZEQ6sZK38HMoBtPhl",
      "include_colab_link": true
    },
    "kernelspec": {
      "name": "python3",
      "display_name": "Python 3"
    },
    "language_info": {
      "name": "python"
    }
  },
  "cells": [
    {
      "cell_type": "markdown",
      "metadata": {
        "id": "view-in-github",
        "colab_type": "text"
      },
      "source": [
        "<a href=\"https://colab.research.google.com/github/KshitizAdkr/LLM-Workshop/blob/main/day1_session3.ipynb\" target=\"_parent\"><img src=\"https://colab.research.google.com/assets/colab-badge.svg\" alt=\"Open In Colab\"/></a>"
      ]
    },
    {
      "cell_type": "code",
      "execution_count": 4,
      "metadata": {
        "id": "dCvKRm0Gvnrg"
      },
      "outputs": [],
      "source": [
        "from google.colab import userdata\n",
        "api_key = userdata.get('Gemini-api-key')"
      ]
    },
    {
      "cell_type": "code",
      "source": [
        "import google.generativeai as genai"
      ],
      "metadata": {
        "id": "JwjVOgn-ytUs"
      },
      "execution_count": 7,
      "outputs": []
    },
    {
      "cell_type": "code",
      "source": [
        "genai.configure(api_key=api_key)\n",
        "llm=genai.GenerativeModel('gemini-2.5-flash')\n",
        "response = llm.generate_content(\"timro naam k ho?\")"
      ],
      "metadata": {
        "id": "woFXJFqDzhYe"
      },
      "execution_count": 15,
      "outputs": []
    },
    {
      "cell_type": "code",
      "source": [
        "response"
      ],
      "metadata": {
        "colab": {
          "base_uri": "https://localhost:8080/"
        },
        "id": "fP2zRrlW0b9J",
        "outputId": "c247528d-e8cb-4689-81dd-fd64cd54e85a"
      },
      "execution_count": 12,
      "outputs": [
        {
          "output_type": "execute_result",
          "data": {
            "text/plain": [
              "response:\n",
              "GenerateContentResponse(\n",
              "    done=True,\n",
              "    iterator=None,\n",
              "    result=protos.GenerateContentResponse({\n",
              "      \"candidates\": [\n",
              "        {\n",
              "          \"content\": {\n",
              "            \"parts\": [\n",
              "              {\n",
              "                \"text\": \"Certainly! Here's a common type of joke, a teacher-student one:\\n\\n**\\u0936\\u093f\\u0915\\u094d\\u0937\\u0915:** \\u0917\\u094b\\u092a\\u093e\\u0932, \\u0924\\u093f\\u092e\\u0940\\u0932\\u0947 \\u0917\\u0943\\u0939\\u0915\\u093e\\u0930\\u094d\\u092f \\u0915\\u093f\\u0928 \\u0917\\u0930\\u0947\\u0928\\u094c?\\n(Shikshak: Gopal, timile grihakarya kina garenau?)\\n*Teacher: Gopal, why didn't you do your homework?*\\n\\n**\\u0917\\u094b\\u092a\\u093e\\u0932:** \\u0938\\u0930, \\u092e\\u0948\\u0932\\u0947 \\u0939\\u093f\\u091c\\u094b \\u0930\\u093e\\u0924\\u093f \\u0917\\u0930\\u0947\\u0901, \\u0924\\u0930 \\u0906\\u091c \\u092c\\u093f\\u0939\\u093e\\u0928\\u0948 \\u092e\\u0947\\u0930\\u094b \\u0938\\u093e\\u0928\\u094b \\u092d\\u093e\\u0907\\u0932\\u0947 \\u091a\\u094d\\u092f\\u093e\\u0924\\u0947\\u0930 \\u091c\\u0939\\u093e\\u091c \\u092c\\u0928\\u093e\\u092f\\u094b!\\n(Gopal: Sir, maile hijo raati gar\\u1ebd, tara aaja bihanai mero sano bhai-le chyatera jahaj banayo!)\\n*Gopal: Sir, I did it last night, but this morning my little brother tore it up and made an airplane!*\\n\\nHope you found it funny! \\ud83d\\ude04\"\n",
              "              }\n",
              "            ],\n",
              "            \"role\": \"model\"\n",
              "          },\n",
              "          \"finish_reason\": \"STOP\",\n",
              "          \"index\": 0\n",
              "        }\n",
              "      ],\n",
              "      \"usage_metadata\": {\n",
              "        \"prompt_token_count\": 8,\n",
              "        \"candidates_token_count\": 172,\n",
              "        \"total_token_count\": 1705\n",
              "      },\n",
              "      \"model_version\": \"gemini-2.5-flash\"\n",
              "    }),\n",
              ")"
            ]
          },
          "metadata": {},
          "execution_count": 12
        }
      ]
    },
    {
      "cell_type": "code",
      "source": [
        "response.text\n"
      ],
      "metadata": {
        "colab": {
          "base_uri": "https://localhost:8080/",
          "height": 109
        },
        "id": "5AbdVIOI1nj0",
        "outputId": "ffd274d4-e6ab-4ae1-b1fd-213ff26c2ea3"
      },
      "execution_count": 13,
      "outputs": [
        {
          "output_type": "execute_result",
          "data": {
            "text/plain": [
              "\"Certainly! Here's a common type of joke, a teacher-student one:\\n\\n**शिक्षक:** गोपाल, तिमीले गृहकार्य किन गरेनौ?\\n(Shikshak: Gopal, timile grihakarya kina garenau?)\\n*Teacher: Gopal, why didn't you do your homework?*\\n\\n**गोपाल:** सर, मैले हिजो राति गरेँ, तर आज बिहानै मेरो सानो भाइले च्यातेर जहाज बनायो!\\n(Gopal: Sir, maile hijo raati garẽ, tara aaja bihanai mero sano bhai-le chyatera jahaj banayo!)\\n*Gopal: Sir, I did it last night, but this morning my little brother tore it up and made an airplane!*\\n\\nHope you found it funny! 😄\""
            ],
            "application/vnd.google.colaboratory.intrinsic+json": {
              "type": "string"
            }
          },
          "metadata": {},
          "execution_count": 13
        }
      ]
    },
    {
      "cell_type": "code",
      "source": [
        "print(response.text)"
      ],
      "metadata": {
        "colab": {
          "base_uri": "https://localhost:8080/"
        },
        "id": "TKkj_sgG3-S9",
        "outputId": "4e6dc399-2379-417e-e576-721f5a24ea5d"
      },
      "execution_count": 16,
      "outputs": [
        {
          "output_type": "stream",
          "name": "stdout",
          "text": [
            "Mero kunai naam chhaina. Ma Google dwara prashikshit euta bishal bhasha model hu.\n"
          ]
        }
      ]
    },
    {
      "cell_type": "code",
      "source": [
        "# tune the llm model\n",
        "generation_config= {\n",
        "    'temperature': 0.6,\n",
        "    'max_output_tokens': 8000,\n",
        "    'candidate_count': 1,\n",
        "}"
      ],
      "metadata": {
        "id": "FmBi7nBm4Dqc"
      },
      "execution_count": 19,
      "outputs": []
    },
    {
      "cell_type": "code",
      "source": [
        "llm = genai.GenerativeModel(\n",
        "    model_name='gemini-2.5-flash',\n",
        "    generation_config=generation_config,\n",
        "    system_instruction=\"You are the senior web developer\"\n",
        ")"
      ],
      "metadata": {
        "id": "jUcZRPox41hE"
      },
      "execution_count": null,
      "outputs": []
    },
    {
      "cell_type": "code",
      "source": [
        "input = \"Explain about cloudinary\""
      ],
      "metadata": {
        "id": "STwYus-85MH8"
      },
      "execution_count": 27,
      "outputs": []
    },
    {
      "cell_type": "code",
      "source": [
        "# Send the input to the model using invoke\n",
        "response = llm.invoke(input)\n",
        "print(response.content)"
      ],
      "metadata": {
        "colab": {
          "base_uri": "https://localhost:8080/"
        },
        "id": "ESSssOY75SNK",
        "outputId": "c38eeb25-ee4e-43c9-9965-0093ba3e6378"
      },
      "execution_count": 38,
      "outputs": [
        {
          "output_type": "stream",
          "name": "stdout",
          "text": [
            "**Cloudinary** is a powerful, cloud-based media management platform that provides an end-to-end solution for all your website's or application's images and videos. It handles everything from uploading and storing to manipulating, optimizing, and delivering media assets.\n",
            "\n",
            "In essence, Cloudinary aims to simplify and automate complex media workflows, allowing developers and marketers to focus on building features and creating content, rather than struggling with image and video processing.\n",
            "\n",
            "---\n",
            "\n",
            "### What Problem Does Cloudinary Solve?\n",
            "\n",
            "Managing images and videos for a modern website or application can be incredibly complex:\n",
            "\n",
            "1.  **Multiple Sizes & Formats:** You need different image sizes for desktops, tablets, mobiles, thumbnails, hero images, social media, etc. You also want to serve modern formats like WebP or AVIF when supported for better performance, but fallback to JPG/PNG for older browsers.\n",
            "2.  **Optimization:** Large files slow down websites, hurting user experience and SEO. Manually optimizing every image is time-consuming.\n",
            "3.  **Transformation:** Cropping, resizing, adding watermarks, applying filters, or overlaying text/logos often requires manual work or complex server-side code.\n",
            "4.  **Delivery:** Serving media efficiently requires a fast Content Delivery Network (CDN).\n",
            "5.  **Asset Management:** Organizing, searching, and maintaining thousands or millions of media files can be a nightmare.\n",
            "6.  **Video Handling:** Videos add another layer of complexity with transcoding, adaptive streaming, and generating thumbnails.\n",
            "\n",
            "Cloudinary addresses all these challenges with a unified platform.\n",
            "\n",
            "---\n",
            "\n",
            "### Key Features and Functionality:\n",
            "\n",
            "1.  **Effortless Upload & Storage:**\n",
            "    *   Provides secure APIs, SDKs, and widgets for uploading images and videos from various sources (web, mobile, desktop).\n",
            "    *   Stores your original assets securely in the cloud.\n",
            "\n",
            "2.  **Dynamic Transformations (The Core Power):**\n",
            "    *   This is where Cloudinary truly shines. Instead of pre-generating every possible version of an image, you upload one high-resolution master image.\n",
            "    *   You then generate different versions on-the-fly by simply modifying the URL.\n",
            "    *   **Examples:**\n",
            "        *   **Resizing & Cropping:** `w_200,h_300,c_fill` (width 200, height 300, fill mode)\n",
            "        *   **Format Conversion:** `f_webp` (convert to WebP), `f_auto` (automatically choose best format based on browser)\n",
            "        *   **Quality Optimization:** `q_auto` (automatically reduce file size while maintaining visual quality)\n",
            "        *   **Effects & Filters:** Grayscale, sepia, blur, sharpen, artistic filters.\n",
            "        *   **Overlays & Watermarks:** Add logos, text, or other images dynamically.\n",
            "        *   **Text Manipulation:** Generate images from text with custom fonts, colors, and effects.\n",
            "        *   **Face Detection & Smart Cropping:** Intelligently crop images around faces or points of interest.\n",
            "        *   **Background Removal:** Automatically remove image backgrounds.\n",
            "    *   **Video Transformations:** Transcoding, trimming, adding overlays, generating animated GIFs, adaptive bitrate streaming (HLS, DASH).\n",
            "\n",
            "3.  **Automatic Optimization:**\n",
            "    *   **Format Conversion:** Automatically delivers the most efficient format (e.g., WebP, AVIF) if the user's browser supports it, otherwise falls back to JPG/PNG.\n",
            "    *   **Quality Compression:** Intelligently compresses images without noticeable loss of quality, significantly reducing file sizes.\n",
            "    *   **DPR (Device Pixel Ratio) Optimization:** Delivers images at the correct resolution for high-DPI (Retina) screens.\n",
            "\n",
            "4.  **Global Content Delivery Network (CDN):**\n",
            "    *   Integrated with leading CDNs (like Akamai and CloudFront) to deliver your optimized media assets quickly to users worldwide, reducing latency and improving load times.\n",
            "\n",
            "5.  **Powerful Asset Management:**\n",
            "    *   Organize assets with folders, tags, and custom metadata.\n",
            "    *   Search and filter media using various criteria.\n",
            "    *   AI-powered auto-tagging for easy discoverability.\n",
            "    *   Version control for assets.\n",
            "\n",
            "6.  **AI & Automation:**\n",
            "    *   Beyond smart cropping and auto-tagging, Cloudinary increasingly incorporates AI for tasks like image moderation, color detection, and more recently, generative AI features for creating new assets.\n",
            "\n",
            "---\n",
            "\n",
            "### How Cloudinary Works (Simplified):\n",
            "\n",
            "1.  **Upload:** You upload your original, high-resolution image or video to your Cloudinary account.\n",
            "2.  **Storage:** Cloudinary stores this master asset securely.\n",
            "3.  **URL Generation:** Instead of directly linking to the stored file, you construct a dynamic URL that includes specific transformation parameters.\n",
            "    *   Example: `https://res.cloudinary.com/your_cloud_name/image/upload/w_200,h_300,c_fill,f_auto,q_auto/v123456789/my_image.jpg`\n",
            "4.  **On-the-Fly Processing (First Request):** When a user's browser requests this URL for the first time:\n",
            "    *   Cloudinary processes the original image according to the parameters in the URL (resizes, crops, optimizes, converts format).\n",
            "    *   It caches the newly generated, optimized version.\n",
            "    *   It delivers this version via its integrated CDN to the user.\n",
            "5.  **CDN Delivery (Subsequent Requests):** For all subsequent requests for the *same* transformed image, the CDN serves the cached version directly, resulting in incredibly fast delivery. If you change a parameter in the URL, a new version is generated and cached.\n",
            "\n",
            "---\n",
            "\n",
            "### Who Uses Cloudinary?\n",
            "\n",
            "*   **E-commerce businesses:** For product images, ensuring fast loading and consistent branding across various platforms.\n",
            "*   **Media companies & publishers:** For articles, galleries, and news sites, optimizing images for different devices and layouts.\n",
            "*   **SaaS companies:** Managing user-generated content (e.g., profile pictures, uploaded documents).\n",
            "*   **Web developers & agencies:** To streamline media workflows, improve site performance, and reduce development time.\n",
            "*   **Marketing teams:** For managing and deploying visual assets across campaigns.\n",
            "\n",
            "---\n",
            "\n",
            "### Benefits of Using Cloudinary:\n",
            "\n",
            "*   **Improved Website Performance:** Faster load times due to optimized and CDN-delivered media.\n",
            "*   **Enhanced User Experience:** Responsive images, high-quality visuals, and quick loading lead to happier users.\n",
            "*   **Reduced Development Time & Costs:** Automates complex image/video processing, freeing up developer resources.\n",
            "*   **Scalability:** Handles vast amounts of media and traffic effortlessly.\n",
            "*   **Centralized Media Management:** A single source of truth for all your visual assets.\n",
            "*   **Future-Proofing:** Easily adapts to new image/video formats and web standards without manual effort.\n",
            "*   **SEO Benefits:** Faster websites often rank higher in search results.\n",
            "\n",
            "---\n",
            "\n",
            "In summary, Cloudinary is an indispensable tool for anyone dealing with significant amounts of images and videos online. It transforms media management from a complex, time-consuming chore into an automated, efficient, and performance-boosting process.\n"
          ]
        }
      ]
    },
    {
      "cell_type": "markdown",
      "source": [
        "## Framwework to work with LLM Models for orchestration\n",
        "\n",
        "- LANGCHAIN\n",
        "- LAMAINDEX\n",
        "- HAYSTACK"
      ],
      "metadata": {
        "id": "whZQE84L6iSu"
      }
    },
    {
      "cell_type": "code",
      "source": [
        "# chatapi using langchain\n",
        "!pip install langchain_google_genai"
      ],
      "metadata": {
        "id": "Nv1d2LGC67fb"
      },
      "execution_count": null,
      "outputs": []
    },
    {
      "cell_type": "code",
      "source": [
        "from langchain_google_genai import ChatGoogleGenerativeAI"
      ],
      "metadata": {
        "id": "A0cDKkzI7UqJ"
      },
      "execution_count": 31,
      "outputs": []
    },
    {
      "cell_type": "code",
      "source": [
        "llm = ChatGoogleGenerativeAI(model=\"gemini-2.5-flash\", api_key=api_key)"
      ],
      "metadata": {
        "id": "RmNVwBxk7ap6"
      },
      "execution_count": 34,
      "outputs": []
    },
    {
      "cell_type": "code",
      "source": [
        "result = llm.invoke(\"Tell me a description about cloudinary in JS\")\n",
        "print(result.content)"
      ],
      "metadata": {
        "colab": {
          "base_uri": "https://localhost:8080/"
        },
        "id": "JFTJ3Z9A7qzQ",
        "outputId": "5d6d150d-0343-491a-a834-d399f08332bb"
      },
      "execution_count": 35,
      "outputs": [
        {
          "output_type": "stream",
          "name": "stdout",
          "text": [
            "Cloudinary, in the context of JavaScript, is a powerful **cloud-based media management platform** that allows developers to efficiently handle all aspects of image and video assets within their web applications.\n",
            "\n",
            "Here's a breakdown of its description and role with JavaScript:\n",
            "\n",
            "### What Cloudinary Is (General)\n",
            "\n",
            "At its core, Cloudinary provides a comprehensive solution for:\n",
            "1.  **Uploads:** Receiving images and videos from users or other sources.\n",
            "2.  **Storage:** Securely storing these assets in the cloud.\n",
            "3.  **Manipulation/Transformations:** Dynamically applying a vast array of changes (resizing, cropping, filters, watermarks, overlays, format conversions, color adjustments, etc.) on the fly.\n",
            "4.  **Optimization:** Automatically optimizing assets for web delivery (e.g., converting to WebP/AVIF, adjusting quality, lazy loading).\n",
            "5.  **Delivery:** Serving assets rapidly via a Content Delivery Network (CDN) to users worldwide.\n",
            "\n",
            "### Cloudinary in JavaScript (Client-side & Server-side)\n",
            "\n",
            "When we talk about Cloudinary in JavaScript, we're referring to how JavaScript applications interact with this powerful backend service. Cloudinary provides robust **JavaScript SDKs (Software Development Kits)** that allow developers to integrate its functionalities seamlessly into both **client-side (browser)** and **server-side (Node.js)** environments.\n",
            "\n",
            "#### Key Aspects and Use Cases with JavaScript:\n",
            "\n",
            "1.  **Client-Side Uploads (Browser JS):**\n",
            "    *   **Upload Widget:** Cloudinary offers a highly customizable JavaScript widget that provides a user-friendly interface for direct image/video uploads from the browser to Cloudinary, bypassing your own server entirely. This is fantastic for reducing server load and improving user experience.\n",
            "    *   **Programmatic Uploads:** You can also use the Cloudinary JS SDK or simple AJAX requests to programmatically upload files from the browser to Cloudinary's API.\n",
            "\n",
            "2.  **Dynamic Image/Video Transformations (Both Client & Server JS):**\n",
            "    *   This is where Cloudinary truly shines. Instead of pre-generating multiple image sizes, you upload one high-resolution version.\n",
            "    *   In your JavaScript code, you construct the image or video URL with transformation parameters. Cloudinary then generates and delivers the transformed asset on demand.\n",
            "    *   **Example:** If you have an original image `my_image.jpg`, you can generate a 200x200 pixel cropped version by simply changing the URL:\n",
            "        `https://res.cloudinary.com/your_cloud_name/image/upload/w_200,h_200,c_fill/my_image.jpg`\n",
            "    *   The JS SDK provides helper methods to build these URLs programmatically, making it easy to create responsive images or apply complex effects.\n",
            "\n",
            "3.  **Server-Side Asset Management (Node.js):**\n",
            "    *   The Node.js SDK allows your backend JavaScript applications to interact with Cloudinary's administrative API.\n",
            "    *   **Operations include:**\n",
            "        *   Programmatic uploads (e.g., from an external URL or local file on the server).\n",
            "        *   Fetching asset details.\n",
            "        *   Deleting assets.\n",
            "        *   Listing assets.\n",
            "        *   Applying server-side transformations.\n",
            "        *   Generating secure, signed URLs for private assets.\n",
            "\n",
            "4.  **Optimized Delivery:**\n",
            "    *   The JavaScript SDKs help you easily embed Cloudinary-generated URLs into your HTML, ensuring that your media assets are served through Cloudinary's CDN, leading to faster load times and a better user experience globally.\n",
            "    *   It also handles automatic format conversion (e.g., serving WebP to compatible browsers) and quality optimization without manual intervention.\n",
            "\n",
            "### In Essence:\n",
            "\n",
            "**Cloudinary empowers JavaScript developers to build media-rich applications that are performant, scalable, and easy to maintain, by offloading the complexities of media management (uploads, storage, manipulation, optimization, and delivery) to a specialized cloud service.** This allows developers to focus on core application logic rather than building and maintaining complex image/video processing infrastructure.\n"
          ]
        }
      ]
    },
    {
      "cell_type": "markdown",
      "source": [
        "### Let's playaround with Prompt Template"
      ],
      "metadata": {
        "id": "55xy2S9W9a3I"
      }
    },
    {
      "cell_type": "code",
      "source": [
        "template_string = \"\"\"Translate the text\\\n",
        "that is delimited by triple backsticks \\\n",
        "into a style that is {style}. \\\n",
        "text: ```{text}```\n",
        "\"\"\""
      ],
      "metadata": {
        "id": "7yMMH6Pw9f1_"
      },
      "execution_count": 41,
      "outputs": []
    },
    {
      "cell_type": "code",
      "source": [
        "from langchain.prompts import ChatPromptTemplate\n",
        "\n",
        "prompt_template = ChatPromptTemplate.from_template(template_string)"
      ],
      "metadata": {
        "id": "E20PVnLk97JX"
      },
      "execution_count": 43,
      "outputs": []
    },
    {
      "cell_type": "code",
      "source": [
        "customer_style = \"\"\"pure newari \\\n",
        "in a calm and respectful tone\n",
        "\"\"\""
      ],
      "metadata": {
        "id": "46HjnIRh-gX_"
      },
      "execution_count": 44,
      "outputs": []
    },
    {
      "cell_type": "code",
      "source": [
        "customer_email = \"\"\"Welcome to GenAI Tutorial \\\n",
        "class.This is day1.we are using Google gemini flash model\n",
        "\"\"\""
      ],
      "metadata": {
        "id": "vP0GhUgs-v35"
      },
      "execution_count": 45,
      "outputs": []
    },
    {
      "cell_type": "code",
      "source": [
        "service_style = \"\"\"a polite tone \\ that speaks in Newari\"\"\"\n",
        "service_reply = \"\"\"Hey customer,the warrenty doesn't cover cleaning\\\n",
        "expenses for your kitchen item.\"\"\""
      ],
      "metadata": {
        "id": "fAdSZGSJ_Z6H"
      },
      "execution_count": 66,
      "outputs": []
    },
    {
      "cell_type": "code",
      "source": [
        "customer_message = prompt_template.format_messages(\n",
        "    style=service_style,\n",
        "    text=service_reply,\n",
        ")"
      ],
      "metadata": {
        "id": "V4yJ0EMn-_Ff"
      },
      "execution_count": 67,
      "outputs": []
    },
    {
      "cell_type": "code",
      "source": [
        "print(customer_message[0])"
      ],
      "metadata": {
        "colab": {
          "base_uri": "https://localhost:8080/"
        },
        "id": "XiVezZ0i_NO0",
        "outputId": "383d3c1d-f312-4f65-edde-8983bc82556e"
      },
      "execution_count": 68,
      "outputs": [
        {
          "output_type": "stream",
          "name": "stdout",
          "text": [
            "content=\"Translate the textthat is delimited by triple backsticks into a style that is a polite tone \\\\ that speaks in Newari. text: ```Hey customer,the warrenty doesn't cover cleaningexpenses for your kitchen item.```\\n\" additional_kwargs={} response_metadata={}\n"
          ]
        }
      ]
    },
    {
      "cell_type": "code",
      "metadata": {
        "colab": {
          "base_uri": "https://localhost:8080/"
        },
        "id": "992c4812",
        "outputId": "2e960d67-f436-47c3-dfc5-bf6b2dbee0ac"
      },
      "source": [
        "customer_response = llm.invoke(customer_message)\n",
        "print(response.content)"
      ],
      "execution_count": 70,
      "outputs": [
        {
          "output_type": "stream",
          "name": "stdout",
          "text": [
            "यहाँ नेपालीमा शान्त र सम्मानजनक शैलीमा गरिएको अनुवाद छ:\n",
            "\n",
            "**जेनएआई प्रशिक्षण कक्षामा यहाँहरूलाई हार्दिक स्वागत छ। यो पहिलो दिन हो। हामी गुगल जेमिनी फ्ल्यास मोडल प्रयोग गर्दैछौं।**\n"
          ]
        }
      ]
    },
    {
      "cell_type": "code",
      "source": [
        "print(customer_response.content)"
      ],
      "metadata": {
        "colab": {
          "base_uri": "https://localhost:8080/"
        },
        "id": "AA8sKaN7BoLk",
        "outputId": "e645498e-fd04-4a45-88b8-cf84ac6f353d"
      },
      "execution_count": 71,
      "outputs": [
        {
          "output_type": "stream",
          "name": "stdout",
          "text": [
            "Here's the translation in a polite Newari tone:\n",
            "\n",
            "**ग्राहकज्यू, छिमिगु भान्सा सामानया सफाइ खर्च वारेन्टीं कभर याइमखु।**\n",
            "\n",
            "**Pronunciation Guide:**\n",
            "*   **ग्राहकज्यू** (Graahakjyu): \"Customer-sir/madam\" (very polite way to address a customer)\n",
            "*   **छिमिगु** (Chhimigu): \"Your\" (polite plural/singular)\n",
            "*   **भान्सा सामानया** (Bhaansaa saamaanya): \"Of the kitchen item\"\n",
            "*   **सफाइ खर्च** (Saphaai kharcha): \"Cleaning expenses\"\n",
            "*   **वारेन्टीं** (Waarentiin): \"By the warranty\"\n",
            "*   **कभर याइमखु** (Kavar yaayimakhu): \"Doesn't cover\" (literally \"doesn't do cover\")\n"
          ]
        }
      ]
    },
    {
      "cell_type": "code",
      "source": [],
      "metadata": {
        "id": "WPePuU1bDBo3"
      },
      "execution_count": null,
      "outputs": []
    }
  ]
}